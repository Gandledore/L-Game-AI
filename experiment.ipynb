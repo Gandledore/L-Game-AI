{
 "cells": [
  {
   "cell_type": "markdown",
   "metadata": {},
   "source": [
    "### Random"
   ]
  },
  {
   "cell_type": "markdown",
   "metadata": {},
   "source": [
    "#### Agent-3 vs Random"
   ]
  },
  {
   "cell_type": "code",
   "execution_count": 1,
   "metadata": {},
   "outputs": [
    {
     "name": "stdout",
     "output_type": "stream",
     "text": [
      "Loaded Preprocessed States    \n"
     ]
    },
    {
     "name": "stderr",
     "output_type": "stream",
     "text": [
      "100%|██████████| 100/100 [00:16<00:00,  6.12it/s]"
     ]
    },
    {
     "name": "stdout",
     "output_type": "stream",
     "text": [
      "\n",
      "Players tied 0 times 0.000%\n",
      "Player 1 won 100 times (100.000%)\n",
      "Avg Turns: 5.94\n",
      "Min Turns: 4\n",
      "Max Turns: 14\n",
      "Avg Turn Times: p1: 54.793ms | p2: 0.014ms\n",
      "First Turns took: p1: 7.1s | p2 0.038ms\n",
      "Avg Turn Times after first turn: p1: 31.069ms | p2: 0.014ms\n"
     ]
    },
    {
     "name": "stderr",
     "output_type": "stream",
     "text": [
      "\n"
     ]
    }
   ],
   "source": [
    "# Agent-3,0 vs Random\n",
    "from play import play\n",
    "\n",
    "#agent vs agent\n",
    "players = ((1,3,0),(2,None,None))\n",
    "winners, turns1, turn_times = play(gm=players,N=100,display=False)\n",
    "\n",
    "import numpy as np\n",
    "\n",
    "counts = np.bincount(winners)\n",
    "for i in range(len(counts)):\n",
    "    if i==0:\n",
    "        print(f'Players tied {counts[i]} times {100*counts[i]/np.sum(counts):.3f}%')\n",
    "    else:\n",
    "        try:\n",
    "            print(f'Player {i} won {counts[i]} times ({100*counts[i]/np.sum(counts):.3f}%)')\n",
    "        except IndexError as e:\n",
    "            print(f'Player {i} won 0 times (0%)')\n",
    "print('Avg Turns:',np.mean(turns1))\n",
    "print('Min Turns:',np.min(turns1))\n",
    "print('Max Turns:',np.max(turns1))\n",
    "print(f'Avg Turn Times: p1: {1000*np.mean(turn_times[0]):3.3f}ms | p2: {1000*np.mean(turn_times[1]):3.3f}ms')\n",
    "print(f'First Turns took: p1: {turn_times[0][0]:.1f}s | p2 {1000*turn_times[1][0]:3.3f}ms')\n",
    "print(f'Avg Turn Times after first turn: p1: {1000*np.mean(turn_times[0][1:]):3.3f}ms | p2: {1000*np.mean(turn_times[1][1:]):3.3f}ms')\n"
   ]
  },
  {
   "cell_type": "code",
   "execution_count": 2,
   "metadata": {},
   "outputs": [
    {
     "name": "stderr",
     "output_type": "stream",
     "text": [
      "  0%|          | 0/100 [00:00<?, ?it/s]"
     ]
    },
    {
     "name": "stderr",
     "output_type": "stream",
     "text": [
      "100%|██████████| 100/100 [00:05<00:00, 17.69it/s]"
     ]
    },
    {
     "name": "stdout",
     "output_type": "stream",
     "text": [
      "\n",
      "Players tied 0 times 0.000%\n",
      "Player 1 won 100 times (100.000%)\n",
      "Avg Turns: 5.96\n",
      "Min Turns: 4\n",
      "Max Turns: 14\n",
      "Avg Turn Times: p1: 18.801ms | p2: 0.014ms\n",
      "First Turns took: p1: 0.4s | p2 0.041ms\n",
      "Avg Turn Times after first turn: p1: 17.372ms | p2: 0.014ms\n"
     ]
    },
    {
     "name": "stderr",
     "output_type": "stream",
     "text": [
      "\n"
     ]
    }
   ],
   "source": [
    "# Agent-3,1 vs Random\n",
    "from play import play\n",
    "\n",
    "#agent vs agent\n",
    "players = ((1,3,1),(2,None,None))\n",
    "winners, turns2, turn_times = play(gm=players,N=100,display=False)\n",
    "\n",
    "import numpy as np\n",
    "\n",
    "counts = np.bincount(winners)\n",
    "for i in range(len(counts)):\n",
    "    if i==0:\n",
    "        print(f'Players tied {counts[i]} times {100*counts[i]/np.sum(counts):.3f}%')\n",
    "    else:\n",
    "        try:\n",
    "            print(f'Player {i} won {counts[i]} times ({100*counts[i]/np.sum(counts):.3f}%)')\n",
    "        except IndexError as e:\n",
    "            print(f'Player {i} won 0 times (0%)')\n",
    "print('Avg Turns:',np.mean(turns2))\n",
    "print('Min Turns:',np.min(turns2))\n",
    "print('Max Turns:',np.max(turns2))\n",
    "print(f'Avg Turn Times: p1: {1000*np.mean(turn_times[0]):3.3f}ms | p2: {1000*np.mean(turn_times[1]):3.3f}ms')\n",
    "print(f'First Turns took: p1: {turn_times[0][0]:.1f}s | p2 {1000*turn_times[1][0]:3.3f}ms')\n",
    "print(f'Avg Turn Times after first turn: p1: {1000*np.mean(turn_times[0][1:]):3.3f}ms | p2: {1000*np.mean(turn_times[1][1:]):3.3f}ms')\n"
   ]
  },
  {
   "cell_type": "markdown",
   "metadata": {},
   "source": [
    "\n",
    "#### Agent* vs Random"
   ]
  },
  {
   "cell_type": "code",
   "execution_count": 3,
   "metadata": {},
   "outputs": [
    {
     "name": "stdout",
     "output_type": "stream",
     "text": [
      "Game not Solved. Solving game now...\n",
      "Saved Optimal Moves    \n"
     ]
    },
    {
     "name": "stderr",
     "output_type": "stream",
     "text": [
      "100%|██████████| 1000000/1000000 [06:45<00:00, 2465.08it/s]"
     ]
    },
    {
     "name": "stdout",
     "output_type": "stream",
     "text": [
      "\n"
     ]
    },
    {
     "name": "stderr",
     "output_type": "stream",
     "text": [
      "\n"
     ]
    }
   ],
   "source": [
    "from play import play\n",
    "\n",
    "#agent vs random\n",
    "players = ((1,-1,1),(2,None,None))\n",
    "winners, turns, turn_times = play(gm=players,N=1000000,display=False)"
   ]
  },
  {
   "cell_type": "code",
   "execution_count": 4,
   "metadata": {},
   "outputs": [
    {
     "name": "stdout",
     "output_type": "stream",
     "text": [
      "Players tied 0 times 0.000%\n",
      "Player 1 won 1000000 times (100.000%)\n",
      "\n",
      "Avg Turns: 7.647862\n",
      "Min Turns: 4\n",
      "Max Turns: 28\n",
      "Avg Turn Times: p1: 0.022ms | p2: 0.012ms\n",
      "First Turns took: p1: 0.106ms | p2 0.045ms\n",
      "Avg Turn Times after first turn: p1: 0.022ms | p2: 0.012ms\n"
     ]
    }
   ],
   "source": [
    "import numpy as np\n",
    "\n",
    "counts = np.bincount(winners)\n",
    "for i in range(len(counts)):\n",
    "    if i==0:\n",
    "        print(f'Players tied {counts[i]} times {100*counts[i]/np.sum(counts):.3f}%')\n",
    "    else:\n",
    "        try:\n",
    "            print(f'Player {i} won {counts[i]} times ({100*counts[i]/np.sum(counts):.3f}%)')\n",
    "        except IndexError as e:\n",
    "            print(f'Player {i} won 0 times (0%)')\n",
    "print()\n",
    "print('Avg Turns:',np.mean(turns))\n",
    "print('Min Turns:',np.min(turns))\n",
    "print('Max Turns:',np.max(turns))\n",
    "print(f'Avg Turn Times: p1: {1000*np.mean(turn_times[0]):3.3f}ms | p2: {1000*np.mean(turn_times[1]):3.3f}ms')\n",
    "print(f'First Turns took: p1: {1000*turn_times[0][0]:3.3f}ms | p2 {1000*turn_times[1][0]:3.3f}ms')\n",
    "print(f'Avg Turn Times after first turn: p1: {1000*np.mean(turn_times[0][1:]):3.3f}ms | p2: {1000*np.mean(turn_times[1][1:]):3.3f}ms')\n",
    "\n",
    "\n",
    "if len(counts)==3 and counts[2]>0:\n",
    "    seed_losers = np.where(winners==2)[0]\n",
    "    print(seed_losers)\n",
    "    print(turns[seed_losers])"
   ]
  },
  {
   "cell_type": "markdown",
   "metadata": {},
   "source": [
    "#### Random vs Agent*"
   ]
  },
  {
   "cell_type": "code",
   "execution_count": 5,
   "metadata": {},
   "outputs": [
    {
     "name": "stdout",
     "output_type": "stream",
     "text": [
      "Game not Solved. Solving game now...\n",
      "Saved Optimal Moves    \n"
     ]
    },
    {
     "name": "stderr",
     "output_type": "stream",
     "text": [
      "100%|██████████| 1000000/1000000 [04:51<00:00, 3429.38it/s]\n"
     ]
    },
    {
     "name": "stdout",
     "output_type": "stream",
     "text": [
      "\n"
     ]
    }
   ],
   "source": [
    "from play import play\n",
    "\n",
    "#random vs agent\n",
    "players = ((2,None,None),(1,-1,1))\n",
    "winners, turns, turn_times = play(gm=players,N=1000000,display=False)"
   ]
  },
  {
   "cell_type": "code",
   "execution_count": 6,
   "metadata": {},
   "outputs": [
    {
     "name": "stdout",
     "output_type": "stream",
     "text": [
      "Players tied 0 times 0.000%\n",
      "Player 1 won 0 times (0.000%)\n",
      "Player 2 won 1000000 times (100.000%)\n",
      "\n",
      "Avg Turns: 5.566532\n",
      "Min Turns: 3\n",
      "Max Turns: 29\n",
      "Avg Turn Times: p1: 0.017ms | p2: 0.023ms\n",
      "First Turns took: p1: 0.0s | p2 0.075ms\n",
      "Avg Turn Times after first turn: p1: 0.017ms | p2: 0.023ms\n",
      "[]\n",
      "[]\n"
     ]
    }
   ],
   "source": [
    "import numpy as np\n",
    "\n",
    "counts = np.bincount(winners)\n",
    "for i in range(len(counts)):\n",
    "    if i==0:\n",
    "        print(f'Players tied {counts[i]} times {100*counts[i]/np.sum(counts):.3f}%')\n",
    "    else:\n",
    "        try:\n",
    "            print(f'Player {i} won {counts[i]} times ({100*counts[i]/np.sum(counts):.3f}%)')\n",
    "        except IndexError as e:\n",
    "            print(f'Player {i} won 0 times (0%)')\n",
    "print()\n",
    "print('Avg Turns:',np.mean(turns))\n",
    "print('Min Turns:',np.min(turns))\n",
    "print('Max Turns:',np.max(turns))\n",
    "print(f'Avg Turn Times: p1: {1000*np.mean(turn_times[0]):3.3f}ms | p2: {1000*np.mean(turn_times[1]):3.3f}ms')\n",
    "print(f'First Turns took: p1: {turn_times[0][0]:.1f}s | p2 {1000*turn_times[1][0]:3.3f}ms')\n",
    "print(f'Avg Turn Times after first turn: p1: {1000*np.mean(turn_times[0][1:]):3.3f}ms | p2: {1000*np.mean(turn_times[1][1:]):3.3f}ms')\n",
    "\n",
    "if len(counts)==3 and counts[2]>0:\n",
    "    seed_losers = np.where(winners==1)[0]\n",
    "    print(seed_losers)\n",
    "    print(turns[seed_losers])"
   ]
  },
  {
   "cell_type": "markdown",
   "metadata": {},
   "source": [
    "### Deterministic"
   ]
  },
  {
   "cell_type": "code",
   "execution_count": 1,
   "metadata": {},
   "outputs": [
    {
     "name": "stdout",
     "output_type": "stream",
     "text": [
      "Loaded Preprocessed States    \n",
      "Game not Solved. Solving game now...\n",
      "Saved Optimal Moves    \n",
      "Game not Solved. Solving game now...\n",
      "Saved Optimal Moves    \n"
     ]
    },
    {
     "name": "stderr",
     "output_type": "stream",
     "text": [
      "100%|██████████| 1/1 [00:00<00:00, 230.03it/s]"
     ]
    },
    {
     "name": "stdout",
     "output_type": "stream",
     "text": [
      "\n",
      "Players tied 1 times 100.000%\n",
      "Avg Turns: 64.0\n",
      "Min Turns: 64\n",
      "Max Turns: 64\n",
      "Avg Turn Times: p1: 0.027ms | p2: 0.026ms\n",
      "First Turns took: p1: 0.0s | p2 0.029ms\n",
      "Avg Turn Times after first turn: p1: 0.025ms | p2: 0.026ms\n"
     ]
    },
    {
     "name": "stderr",
     "output_type": "stream",
     "text": [
      "\n"
     ]
    }
   ],
   "source": [
    "# Agent* vs Agent* no prune\n",
    "from play import play\n",
    "\n",
    "#agent vs agent\n",
    "players = ((1,-1,0),(1,-1,0))\n",
    "winners, turns, turn_times = play(gm=players,N=1,display=False)\n",
    "\n",
    "import numpy as np\n",
    "\n",
    "counts = np.bincount(winners)\n",
    "for i in range(len(counts)):\n",
    "    if i==0:\n",
    "        print(f'Players tied {counts[i]} times {100*counts[i]/np.sum(counts):.3f}%')\n",
    "    else:\n",
    "        try:\n",
    "            print(f'Player {i} won {counts[i]} times ({100*counts[i]/np.sum(counts):.3f}%)')\n",
    "        except IndexError as e:\n",
    "            print(f'Player {i} won 0 times (0%)')\n",
    "print('Avg Turns:',np.mean(turns))\n",
    "print('Min Turns:',np.min(turns))\n",
    "print('Max Turns:',np.max(turns))\n",
    "print(f'Avg Turn Times: p1: {1000*np.mean(turn_times[0]):3.3f}ms | p2: {1000*np.mean(turn_times[1]):3.3f}ms')\n",
    "print(f'First Turns took: p1: {turn_times[0][0]:.1f}s | p2 {1000*turn_times[1][0]:3.3f}ms')\n",
    "print(f'Avg Turn Times after first turn: p1: {1000*np.mean(turn_times[0][1:]):3.3f}ms | p2: {1000*np.mean(turn_times[1][1:]):3.3f}ms')\n"
   ]
  },
  {
   "cell_type": "code",
   "execution_count": 1,
   "metadata": {},
   "outputs": [
    {
     "name": "stdout",
     "output_type": "stream",
     "text": [
      "Loaded Preprocessed States    \n",
      "Game not Solved. Solving game now...\n"
     ]
    },
    {
     "name": "stderr",
     "output_type": "stream",
     "text": [
      "100%|██████████| 4592/4592 [00:34<00:00, 133.63it/s] \n"
     ]
    },
    {
     "name": "stdout",
     "output_type": "stream",
     "text": [
      "Saved Optimal Moves    \n",
      "Game not Solved. Solving game now...\n"
     ]
    },
    {
     "name": "stderr",
     "output_type": "stream",
     "text": [
      "100%|██████████| 4592/4592 [00:30<00:00, 152.62it/s] \n"
     ]
    },
    {
     "name": "stdout",
     "output_type": "stream",
     "text": [
      "Saved Optimal Moves    \n"
     ]
    },
    {
     "name": "stderr",
     "output_type": "stream",
     "text": [
      "100%|██████████| 1/1 [00:00<00:00, 257.08it/s]"
     ]
    },
    {
     "name": "stdout",
     "output_type": "stream",
     "text": [
      "\n",
      "Players tied 1 times 100.000%\n",
      "Avg Turns: 64.0\n",
      "Min Turns: 64\n",
      "Max Turns: 64\n",
      "Avg Turn Times: p1: 0.024ms | p2: 0.023ms\n",
      "First Turns took: p1: 0.0s | p2 0.071ms\n",
      "Avg Turn Times after first turn: p1: 0.023ms | p2: 0.021ms\n"
     ]
    },
    {
     "name": "stderr",
     "output_type": "stream",
     "text": [
      "\n"
     ]
    }
   ],
   "source": [
    "# Agent* vs Agent* pruning\n",
    "from play import play\n",
    "\n",
    "#agent vs agent\n",
    "players = ((1,-1,-1),(1,-1,-1))\n",
    "winners, turns, turn_times = play(gm=players,N=1,display=False)\n",
    "\n",
    "import numpy as np\n",
    "\n",
    "counts = np.bincount(winners)\n",
    "for i in range(len(counts)):\n",
    "    if i==0:\n",
    "        print(f'Players tied {counts[i]} times {100*counts[i]/np.sum(counts):.3f}%')\n",
    "    else:\n",
    "        try:\n",
    "            print(f'Player {i} won {counts[i]} times ({100*counts[i]/np.sum(counts):.3f}%)')\n",
    "        except IndexError as e:\n",
    "            print(f'Player {i} won 0 times (0%)')\n",
    "print('Avg Turns:',np.mean(turns))\n",
    "print('Min Turns:',np.min(turns))\n",
    "print('Max Turns:',np.max(turns))\n",
    "print(f'Avg Turn Times: p1: {1000*np.mean(turn_times[0]):3.3f}ms | p2: {1000*np.mean(turn_times[1]):3.3f}ms')\n",
    "print(f'First Turns took: p1: {turn_times[0][0]:.1f}s | p2 {1000*turn_times[1][0]:3.3f}ms')\n",
    "print(f'Avg Turn Times after first turn: p1: {1000*np.mean(turn_times[0][1:]):3.3f}ms | p2: {1000*np.mean(turn_times[1][1:]):3.3f}ms')\n"
   ]
  },
  {
   "cell_type": "code",
   "execution_count": 9,
   "metadata": {},
   "outputs": [
    {
     "name": "stdout",
     "output_type": "stream",
     "text": [
      "Loaded Solved Game    \n"
     ]
    },
    {
     "name": "stderr",
     "output_type": "stream",
     "text": [
      "100%|██████████| 1/1 [00:00<00:00, 14.36it/s]"
     ]
    },
    {
     "name": "stdout",
     "output_type": "stream",
     "text": [
      "\n",
      "Players tied 0 times 0.000%\n",
      "Player 1 won 1 times (100.000%)\n",
      "Avg Turns: 30.0\n",
      "Min Turns: 30\n",
      "Max Turns: 30\n",
      "Avg Turn Times: p1: 0.031ms | p2: 4.513ms\n",
      "First Turns took: p1: 0.0s | p2 7.864ms\n",
      "Avg Turn Times after first turn: p1: 0.029ms | p2: 4.274ms\n"
     ]
    },
    {
     "name": "stderr",
     "output_type": "stream",
     "text": [
      "\n"
     ]
    }
   ],
   "source": [
    "# Agent* vs Agent-1,0\n",
    "from play import play\n",
    "\n",
    "#agent vs agent\n",
    "players = ((1,-1,0),(1,1,0))\n",
    "winners, turns, turn_times = play(gm=players,N=1,display=False)\n",
    "\n",
    "import numpy as np\n",
    "\n",
    "counts = np.bincount(winners)\n",
    "for i in range(len(counts)):\n",
    "    if i==0:\n",
    "        print(f'Players tied {counts[i]} times {100*counts[i]/np.sum(counts):.3f}%')\n",
    "    else:\n",
    "        try:\n",
    "            print(f'Player {i} won {counts[i]} times ({100*counts[i]/np.sum(counts):.3f}%)')\n",
    "        except IndexError as e:\n",
    "            print(f'Player {i} won 0 times (0%)')\n",
    "print('Avg Turns:',np.mean(turns))\n",
    "print('Min Turns:',np.min(turns))\n",
    "print('Max Turns:',np.max(turns))\n",
    "print(f'Avg Turn Times: p1: {1000*np.mean(turn_times[0]):3.3f}ms | p2: {1000*np.mean(turn_times[1]):3.3f}ms')\n",
    "print(f'First Turns took: p1: {turn_times[0][0]:.1f}s | p2 {1000*turn_times[1][0]:3.3f}ms')\n",
    "print(f'Avg Turn Times after first turn: p1: {1000*np.mean(turn_times[0][1:]):3.3f}ms | p2: {1000*np.mean(turn_times[1][1:]):3.3f}ms')\n"
   ]
  },
  {
   "cell_type": "code",
   "execution_count": 10,
   "metadata": {},
   "outputs": [
    {
     "name": "stdout",
     "output_type": "stream",
     "text": [
      "Loaded Solved Game    \n"
     ]
    },
    {
     "name": "stderr",
     "output_type": "stream",
     "text": [
      "100%|██████████| 1/1 [00:00<00:00, 40.06it/s]"
     ]
    },
    {
     "name": "stdout",
     "output_type": "stream",
     "text": [
      "\n",
      "Players tied 0 times 0.000%\n",
      "Player 1 won 0 times (0.000%)\n",
      "Player 2 won 1 times (100.000%)\n",
      "Avg Turns: 5.0\n",
      "Min Turns: 5\n",
      "Max Turns: 5\n",
      "Avg Turn Times: p1: 12.242ms | p2: 0.027ms\n",
      "First Turns took: p1: 0.0s | p2 0.029ms\n",
      "Avg Turn Times after first turn: p1: 8.582ms | p2: 0.025ms\n"
     ]
    },
    {
     "name": "stderr",
     "output_type": "stream",
     "text": [
      "\n"
     ]
    }
   ],
   "source": [
    "# Agent-1,0 vs Agent*\n",
    "from play import play\n",
    "\n",
    "#agent vs agent\n",
    "players = ((1,1,0),(1,-1,0))\n",
    "winners, turns, turn_times = play(gm=players,N=1,display=False)\n",
    "\n",
    "import numpy as np\n",
    "\n",
    "counts = np.bincount(winners)\n",
    "for i in range(len(counts)):\n",
    "    if i==0:\n",
    "        print(f'Players tied {counts[i]} times {100*counts[i]/np.sum(counts):.3f}%')\n",
    "    else:\n",
    "        try:\n",
    "            print(f'Player {i} won {counts[i]} times ({100*counts[i]/np.sum(counts):.3f}%)')\n",
    "        except IndexError as e:\n",
    "            print(f'Player {i} won 0 times (0%)')\n",
    "print('Avg Turns:',np.mean(turns))\n",
    "print('Min Turns:',np.min(turns))\n",
    "print('Max Turns:',np.max(turns))\n",
    "print(f'Avg Turn Times: p1: {1000*np.mean(turn_times[0]):3.3f}ms | p2: {1000*np.mean(turn_times[1]):3.3f}ms')\n",
    "print(f'First Turns took: p1: {turn_times[0][0]:.1f}s | p2 {1000*turn_times[1][0]:3.3f}ms')\n",
    "print(f'Avg Turn Times after first turn: p1: {1000*np.mean(turn_times[0][1:]):3.3f}ms | p2: {1000*np.mean(turn_times[1][1:]):3.3f}ms')\n"
   ]
  },
  {
   "cell_type": "code",
   "execution_count": 20,
   "metadata": {},
   "outputs": [
    {
     "name": "stdout",
     "output_type": "stream",
     "text": [
      "Loaded Solved Game    \n"
     ]
    },
    {
     "name": "stderr",
     "output_type": "stream",
     "text": [
      "100%|██████████| 1/1 [00:00<00:00,  1.48it/s]"
     ]
    },
    {
     "name": "stdout",
     "output_type": "stream",
     "text": [
      "\n",
      "Players tied 1 times 100.000%\n",
      "Avg Turns: 64.0\n",
      "Min Turns: 64\n",
      "Max Turns: 64\n",
      "Avg Turn Times: p1: 0.026ms | p2: 20.982ms\n",
      "First Turns took: p1: 0.0s | p2 44.492ms\n",
      "Avg Turn Times after first turn: p1: 0.024ms | p2: 20.223ms\n"
     ]
    },
    {
     "name": "stderr",
     "output_type": "stream",
     "text": [
      "\n"
     ]
    }
   ],
   "source": [
    "# Agent* vs Agent-1,0\n",
    "from play import play\n",
    "\n",
    "#agent vs agent\n",
    "players = ((1,-1,0),(1,2,1))\n",
    "winners, turns, turn_times = play(gm=players,N=1,display=False)\n",
    "\n",
    "import numpy as np\n",
    "\n",
    "counts = np.bincount(winners)\n",
    "for i in range(len(counts)):\n",
    "    if i==0:\n",
    "        print(f'Players tied {counts[i]} times {100*counts[i]/np.sum(counts):.3f}%')\n",
    "    else:\n",
    "        try:\n",
    "            print(f'Player {i} won {counts[i]} times ({100*counts[i]/np.sum(counts):.3f}%)')\n",
    "        except IndexError as e:\n",
    "            print(f'Player {i} won 0 times (0%)')\n",
    "print('Avg Turns:',np.mean(turns))\n",
    "print('Min Turns:',np.min(turns))\n",
    "print('Max Turns:',np.max(turns))\n",
    "print(f'Avg Turn Times: p1: {1000*np.mean(turn_times[0]):3.3f}ms | p2: {1000*np.mean(turn_times[1]):3.3f}ms')\n",
    "print(f'First Turns took: p1: {turn_times[0][0]:.1f}s | p2 {1000*turn_times[1][0]:3.3f}ms')\n",
    "print(f'Avg Turn Times after first turn: p1: {1000*np.mean(turn_times[0][1:]):3.3f}ms | p2: {1000*np.mean(turn_times[1][1:]):3.3f}ms')\n"
   ]
  },
  {
   "cell_type": "code",
   "execution_count": 21,
   "metadata": {},
   "outputs": [
    {
     "name": "stdout",
     "output_type": "stream",
     "text": [
      "Loaded Solved Game    \n"
     ]
    },
    {
     "name": "stderr",
     "output_type": "stream",
     "text": [
      "100%|██████████| 1/1 [00:00<00:00,  1.62it/s]"
     ]
    },
    {
     "name": "stdout",
     "output_type": "stream",
     "text": [
      "\n",
      "Players tied 1 times 100.000%\n",
      "Avg Turns: 64.0\n",
      "Min Turns: 64\n",
      "Max Turns: 64\n",
      "Avg Turn Times: p1: 19.196ms | p2: 0.023ms\n",
      "First Turns took: p1: 0.1s | p2 0.026ms\n",
      "Avg Turn Times after first turn: p1: 17.908ms | p2: 0.023ms\n"
     ]
    },
    {
     "name": "stderr",
     "output_type": "stream",
     "text": [
      "\n"
     ]
    }
   ],
   "source": [
    "# Agent-2,0 vs Agent*\n",
    "from play import play\n",
    "\n",
    "#agent vs agent\n",
    "players = ((1,2,1),(1,-1,1))\n",
    "winners, turns, turn_times = play(gm=players,N=1,display=False)\n",
    "\n",
    "import numpy as np\n",
    "\n",
    "counts = np.bincount(winners)\n",
    "for i in range(len(counts)):\n",
    "    if i==0:\n",
    "        print(f'Players tied {counts[i]} times {100*counts[i]/np.sum(counts):.3f}%')\n",
    "    else:\n",
    "        try:\n",
    "            print(f'Player {i} won {counts[i]} times ({100*counts[i]/np.sum(counts):.3f}%)')\n",
    "        except IndexError as e:\n",
    "            print(f'Player {i} won 0 times (0%)')\n",
    "print('Avg Turns:',np.mean(turns))\n",
    "print('Min Turns:',np.min(turns))\n",
    "print('Max Turns:',np.max(turns))\n",
    "print(f'Avg Turn Times: p1: {1000*np.mean(turn_times[0]):3.3f}ms | p2: {1000*np.mean(turn_times[1]):3.3f}ms')\n",
    "print(f'First Turns took: p1: {turn_times[0][0]:.1f}s | p2 {1000*turn_times[1][0]:3.3f}ms')\n",
    "print(f'Avg Turn Times after first turn: p1: {1000*np.mean(turn_times[0][1:]):3.3f}ms | p2: {1000*np.mean(turn_times[1][1:]):3.3f}ms')\n"
   ]
  },
  {
   "cell_type": "code",
   "execution_count": 22,
   "metadata": {},
   "outputs": [
    {
     "name": "stderr",
     "output_type": "stream",
     "text": [
      "100%|██████████| 1/1 [00:00<00:00, 11.02it/s]"
     ]
    },
    {
     "name": "stdout",
     "output_type": "stream",
     "text": [
      "\n",
      "Players tied 0 times 0.000%\n",
      "Player 1 won 1 times (100.000%)\n",
      "Avg Turns: 14.0\n",
      "Min Turns: 14\n",
      "Max Turns: 14\n",
      "Avg Turn Times: p1: 9.190ms | p2: 3.640ms\n",
      "First Turns took: p1: 0.0s | p2 8.737ms\n",
      "Avg Turn Times after first turn: p1: 7.382ms | p2: 2.790ms\n"
     ]
    },
    {
     "name": "stderr",
     "output_type": "stream",
     "text": [
      "\n"
     ]
    }
   ],
   "source": [
    "# Agent-1,0 vs Agent-1,0\n",
    "from play import play\n",
    "\n",
    "players = ((1,1,0),(1,1,0))\n",
    "winners, turns, turn_times = play(gm=players,N=1,display=False)\n",
    "\n",
    "import numpy as np\n",
    "\n",
    "counts = np.bincount(winners)\n",
    "for i in range(len(counts)):\n",
    "    if i==0:\n",
    "        print(f'Players tied {counts[i]} times {100*counts[i]/np.sum(counts):.3f}%')\n",
    "    else:\n",
    "        try:\n",
    "            print(f'Player {i} won {counts[i]} times ({100*counts[i]/np.sum(counts):.3f}%)')\n",
    "        except IndexError as e:\n",
    "            print(f'Player {i} won 0 times (0%)')\n",
    "print('Avg Turns:',np.mean(turns))\n",
    "print('Min Turns:',np.min(turns))\n",
    "print('Max Turns:',np.max(turns))\n",
    "print(f'Avg Turn Times: p1: {1000*np.mean(turn_times[0]):3.3f}ms | p2: {1000*np.mean(turn_times[1]):3.3f}ms')\n",
    "print(f'First Turns took: p1: {turn_times[0][0]:.1f}s | p2 {1000*turn_times[1][0]:3.3f}ms')\n",
    "print(f'Avg Turn Times after first turn: p1: {1000*np.mean(turn_times[0][1:]):3.3f}ms | p2: {1000*np.mean(turn_times[1][1:]):3.3f}ms')\n"
   ]
  },
  {
   "cell_type": "code",
   "execution_count": 12,
   "metadata": {},
   "outputs": [
    {
     "name": "stderr",
     "output_type": "stream",
     "text": [
      "100%|██████████| 1/1 [00:19<00:00, 19.24s/it]"
     ]
    },
    {
     "name": "stdout",
     "output_type": "stream",
     "text": [
      "\n",
      "Players tied 1 times 100.000%\n",
      "Avg Turns: 64.0\n",
      "Min Turns: 64\n",
      "Max Turns: 64\n",
      "Avg Turn Times: p1: 314.290ms | p2: 286.717ms\n",
      "First Turns took: p1: 7.1s | p2 5345.180ms\n",
      "Avg Turn Times after first turn: p1: 96.326ms | p2: 123.541ms\n"
     ]
    },
    {
     "name": "stderr",
     "output_type": "stream",
     "text": [
      "\n"
     ]
    }
   ],
   "source": [
    "# Agent-3,0 vs Agent-3,0\n",
    "from play import play\n",
    "\n",
    "players = ((1,3,0),(1,3,0))\n",
    "winners, turns, turn_times = play(gm=players,N=1,display=False)\n",
    "\n",
    "import numpy as np\n",
    "\n",
    "counts = np.bincount(winners)\n",
    "for i in range(len(counts)):\n",
    "    if i==0:\n",
    "        print(f'Players tied {counts[i]} times {100*counts[i]/np.sum(counts):.3f}%')\n",
    "    else:\n",
    "        try:\n",
    "            print(f'Player {i} won {counts[i]} times ({100*counts[i]/np.sum(counts):.3f}%)')\n",
    "        except IndexError as e:\n",
    "            print(f'Player {i} won 0 times (0%)')\n",
    "print('Avg Turns:',np.mean(turns))\n",
    "print('Min Turns:',np.min(turns))\n",
    "print('Max Turns:',np.max(turns))\n",
    "print(f'Avg Turn Times: p1: {1000*np.mean(turn_times[0]):3.3f}ms | p2: {1000*np.mean(turn_times[1]):3.3f}ms')\n",
    "print(f'First Turns took: p1: {turn_times[0][0]:.1f}s | p2 {1000*turn_times[1][0]:3.3f}ms')\n",
    "print(f'Avg Turn Times after first turn: p1: {1000*np.mean(turn_times[0][1:]):3.3f}ms | p2: {1000*np.mean(turn_times[1][1:]):3.3f}ms')\n"
   ]
  },
  {
   "cell_type": "code",
   "execution_count": 13,
   "metadata": {},
   "outputs": [
    {
     "name": "stderr",
     "output_type": "stream",
     "text": [
      "100%|██████████| 1/1 [00:21<00:00, 21.88s/it]"
     ]
    },
    {
     "name": "stdout",
     "output_type": "stream",
     "text": [
      "\n",
      "Players tied 0 times 0.000%\n",
      "Player 1 won 1 times (100.000%)\n",
      "Avg Turns: 12.0\n",
      "Min Turns: 12\n",
      "Max Turns: 12\n",
      "Avg Turn Times: p1: 3642.453ms | p2: 4.473ms\n",
      "First Turns took: p1: 21.8s | p2 7.204ms\n",
      "Avg Turn Times after first turn: p1: 1.165ms | p2: 3.927ms\n"
     ]
    },
    {
     "name": "stderr",
     "output_type": "stream",
     "text": [
      "\n"
     ]
    }
   ],
   "source": [
    "# Agent-5,0 vs Agent-1,0\n",
    "from play import play\n",
    "\n",
    "players = ((1,5,0),(1,1,0))\n",
    "winners, turns, turn_times = play(gm=players,N=1,display=False)\n",
    "\n",
    "import numpy as np\n",
    "\n",
    "counts = np.bincount(winners)\n",
    "for i in range(len(counts)):\n",
    "    if i==0:\n",
    "        print(f'Players tied {counts[i]} times {100*counts[i]/np.sum(counts):.3f}%')\n",
    "    else:\n",
    "        try:\n",
    "            print(f'Player {i} won {counts[i]} times ({100*counts[i]/np.sum(counts):.3f}%)')\n",
    "        except IndexError as e:\n",
    "            print(f'Player {i} won 0 times (0%)')\n",
    "print('Avg Turns:',np.mean(turns))\n",
    "print('Min Turns:',np.min(turns))\n",
    "print('Max Turns:',np.max(turns))\n",
    "print(f'Avg Turn Times: p1: {1000*np.mean(turn_times[0]):3.3f}ms | p2: {1000*np.mean(turn_times[1]):3.3f}ms')\n",
    "print(f'First Turns took: p1: {turn_times[0][0]:.1f}s | p2 {1000*turn_times[1][0]:3.3f}ms')\n",
    "print(f'Avg Turn Times after first turn: p1: {1000*np.mean(turn_times[0][1:]):3.3f}ms | p2: {1000*np.mean(turn_times[1][1:]):3.3f}ms')\n"
   ]
  },
  {
   "cell_type": "code",
   "execution_count": 14,
   "metadata": {},
   "outputs": [
    {
     "name": "stderr",
     "output_type": "stream",
     "text": [
      "100%|██████████| 1/1 [00:06<00:00,  6.84s/it]"
     ]
    },
    {
     "name": "stdout",
     "output_type": "stream",
     "text": [
      "\n",
      "Players tied 0 times 0.000%\n",
      "Player 1 won 1 times (100.000%)\n",
      "Avg Turns: 12.0\n",
      "Min Turns: 12\n",
      "Max Turns: 12\n",
      "Avg Turn Times: p1: 1134.234ms | p2: 4.812ms\n",
      "First Turns took: p1: 4.6s | p2 8.313ms\n",
      "Avg Turn Times after first turn: p1: 443.275ms | p2: 4.111ms\n"
     ]
    },
    {
     "name": "stderr",
     "output_type": "stream",
     "text": [
      "\n"
     ]
    }
   ],
   "source": [
    "# Agent-5,1 vs Agent-1,0\n",
    "from play import play\n",
    "\n",
    "players = ((1,5,1),(1,1,0))\n",
    "winners, turns, turn_times = play(gm=players,N=1,display=False)\n",
    "\n",
    "import numpy as np\n",
    "\n",
    "counts = np.bincount(winners)\n",
    "for i in range(len(counts)):\n",
    "    if i==0:\n",
    "        print(f'Players tied {counts[i]} times {100*counts[i]/np.sum(counts):.3f}%')\n",
    "    else:\n",
    "        try:\n",
    "            print(f'Player {i} won {counts[i]} times ({100*counts[i]/np.sum(counts):.3f}%)')\n",
    "        except IndexError as e:\n",
    "            print(f'Player {i} won 0 times (0%)')\n",
    "print('Avg Turns:',np.mean(turns))\n",
    "print('Min Turns:',np.min(turns))\n",
    "print('Max Turns:',np.max(turns))\n",
    "print(f'Avg Turn Times: p1: {1000*np.mean(turn_times[0]):3.3f}ms | p2: {1000*np.mean(turn_times[1]):3.3f}ms')\n",
    "print(f'First Turns took: p1: {turn_times[0][0]:.1f}s | p2 {1000*turn_times[1][0]:3.3f}ms')\n",
    "print(f'Avg Turn Times after first turn: p1: {1000*np.mean(turn_times[0][1:]):3.3f}ms | p2: {1000*np.mean(turn_times[1][1:]):3.3f}ms')\n"
   ]
  },
  {
   "cell_type": "code",
   "execution_count": 15,
   "metadata": {},
   "outputs": [
    {
     "name": "stderr",
     "output_type": "stream",
     "text": [
      "100%|██████████| 1/1 [00:16<00:00, 16.21s/it]"
     ]
    },
    {
     "name": "stdout",
     "output_type": "stream",
     "text": [
      "\n",
      "Players tied 0 times 0.000%\n",
      "Player 1 won 0 times (0.000%)\n",
      "Player 2 won 1 times (100.000%)\n",
      "Avg Turns: 5.0\n",
      "Min Turns: 5\n",
      "Max Turns: 5\n",
      "Avg Turn Times: p1: 16.574ms | p2: 8087.812ms\n",
      "First Turns took: p1: 0.0s | p2 16175.507ms\n",
      "Avg Turn Times after first turn: p1: 10.512ms | p2: 0.118ms\n"
     ]
    },
    {
     "name": "stderr",
     "output_type": "stream",
     "text": [
      "\n"
     ]
    }
   ],
   "source": [
    "# Agent-1,0 vs Agent-5,0\n",
    "from play import play\n",
    "\n",
    "players = ((1,1,0),(1,5,0))\n",
    "winners, turns, turn_times = play(gm=players,N=1,display=False)\n",
    "\n",
    "import numpy as np\n",
    "\n",
    "counts = np.bincount(winners)\n",
    "for i in range(len(counts)):\n",
    "    if i==0:\n",
    "        print(f'Players tied {counts[i]} times {100*counts[i]/np.sum(counts):.3f}%')\n",
    "    else:\n",
    "        try:\n",
    "            print(f'Player {i} won {counts[i]} times ({100*counts[i]/np.sum(counts):.3f}%)')\n",
    "        except IndexError as e:\n",
    "            print(f'Player {i} won 0 times (0%)')\n",
    "print('Avg Turns:',np.mean(turns))\n",
    "print('Min Turns:',np.min(turns))\n",
    "print('Max Turns:',np.max(turns))\n",
    "print(f'Avg Turn Times: p1: {1000*np.mean(turn_times[0]):3.3f}ms | p2: {1000*np.mean(turn_times[1]):3.3f}ms')\n",
    "print(f'First Turns took: p1: {turn_times[0][0]:.1f}s | p2 {1000*turn_times[1][0]:3.3f}ms')\n",
    "print(f'Avg Turn Times after first turn: p1: {1000*np.mean(turn_times[0][1:]):3.3f}ms | p2: {1000*np.mean(turn_times[1][1:]):3.3f}ms')\n"
   ]
  },
  {
   "cell_type": "code",
   "execution_count": 16,
   "metadata": {},
   "outputs": [
    {
     "name": "stderr",
     "output_type": "stream",
     "text": [
      "100%|██████████| 1/1 [00:03<00:00,  3.22s/it]"
     ]
    },
    {
     "name": "stdout",
     "output_type": "stream",
     "text": [
      "\n",
      "Players tied 0 times 0.000%\n",
      "Player 1 won 0 times (0.000%)\n",
      "Player 2 won 1 times (100.000%)\n",
      "Avg Turns: 5.0\n",
      "Min Turns: 5\n",
      "Max Turns: 5\n",
      "Avg Turn Times: p1: 12.358ms | p2: 1597.322ms\n",
      "First Turns took: p1: 0.0s | p2 3025.621ms\n",
      "Avg Turn Times after first turn: p1: 7.399ms | p2: 169.023ms\n"
     ]
    },
    {
     "name": "stderr",
     "output_type": "stream",
     "text": [
      "\n"
     ]
    }
   ],
   "source": [
    "# Agent-1,0 vs Agent-5,1\n",
    "from play import play\n",
    "\n",
    "players = ((1,1,0),(1,5,1))\n",
    "winners, turns, turn_times = play(gm=players,N=1,display=False)\n",
    "\n",
    "import numpy as np\n",
    "\n",
    "counts = np.bincount(winners)\n",
    "for i in range(len(counts)):\n",
    "    if i==0:\n",
    "        print(f'Players tied {counts[i]} times {100*counts[i]/np.sum(counts):.3f}%')\n",
    "    else:\n",
    "        try:\n",
    "            print(f'Player {i} won {counts[i]} times ({100*counts[i]/np.sum(counts):.3f}%)')\n",
    "        except IndexError as e:\n",
    "            print(f'Player {i} won 0 times (0%)')\n",
    "print('Avg Turns:',np.mean(turns))\n",
    "print('Min Turns:',np.min(turns))\n",
    "print('Max Turns:',np.max(turns))\n",
    "print(f'Avg Turn Times: p1: {1000*np.mean(turn_times[0]):3.3f}ms | p2: {1000*np.mean(turn_times[1]):3.3f}ms')\n",
    "print(f'First Turns took: p1: {turn_times[0][0]:.1f}s | p2 {1000*turn_times[1][0]:3.3f}ms')\n",
    "print(f'Avg Turn Times after first turn: p1: {1000*np.mean(turn_times[0][1:]):3.3f}ms | p2: {1000*np.mean(turn_times[1][1:]):3.3f}ms')\n"
   ]
  },
  {
   "cell_type": "code",
   "execution_count": 17,
   "metadata": {},
   "outputs": [
    {
     "name": "stderr",
     "output_type": "stream",
     "text": [
      "100%|██████████| 1/1 [00:21<00:00, 21.36s/it]"
     ]
    },
    {
     "name": "stdout",
     "output_type": "stream",
     "text": [
      "\n",
      "Players tied 1 times 100.000%\n",
      "Avg Turns: 64.0\n",
      "Min Turns: 64\n",
      "Max Turns: 64\n",
      "Avg Turn Times: p1: 155.436ms | p2: 511.969ms\n",
      "First Turns took: p1: 4.6s | p2 15981.027ms\n",
      "Avg Turn Times after first turn: p1: 11.534ms | p2: 12.967ms\n"
     ]
    },
    {
     "name": "stderr",
     "output_type": "stream",
     "text": [
      "\n"
     ]
    }
   ],
   "source": [
    "# Agent-5,1 vs Agent-5,0\n",
    "from play import play\n",
    "\n",
    "players = ((1,5,1),(1,5,0))\n",
    "winners, turns, turn_times = play(gm=players,N=1,display=False)\n",
    "\n",
    "import numpy as np\n",
    "\n",
    "counts = np.bincount(winners)\n",
    "for i in range(len(counts)):\n",
    "    if i==0:\n",
    "        print(f'Players tied {counts[i]} times {100*counts[i]/np.sum(counts):.3f}%')\n",
    "    else:\n",
    "        try:\n",
    "            print(f'Player {i} won {counts[i]} times ({100*counts[i]/np.sum(counts):.3f}%)')\n",
    "        except IndexError as e:\n",
    "            print(f'Player {i} won 0 times (0%)')\n",
    "print('Avg Turns:',np.mean(turns))\n",
    "print('Min Turns:',np.min(turns))\n",
    "print('Max Turns:',np.max(turns))\n",
    "print(f'Avg Turn Times: p1: {1000*np.mean(turn_times[0]):3.3f}ms | p2: {1000*np.mean(turn_times[1]):3.3f}ms')\n",
    "print(f'First Turns took: p1: {turn_times[0][0]:.1f}s | p2 {1000*turn_times[1][0]:3.3f}ms')\n",
    "print(f'Avg Turn Times after first turn: p1: {1000*np.mean(turn_times[0][1:]):3.3f}ms | p2: {1000*np.mean(turn_times[1][1:]):3.3f}ms')\n"
   ]
  },
  {
   "cell_type": "code",
   "execution_count": 18,
   "metadata": {},
   "outputs": [
    {
     "name": "stderr",
     "output_type": "stream",
     "text": [
      "100%|██████████| 1/1 [00:25<00:00, 25.98s/it]"
     ]
    },
    {
     "name": "stdout",
     "output_type": "stream",
     "text": [
      "\n",
      "Players tied 1 times 100.000%\n",
      "Avg Turns: 64.0\n",
      "Min Turns: 64\n",
      "Max Turns: 64\n",
      "Avg Turn Times: p1: 682.108ms | p2: 129.739ms\n",
      "First Turns took: p1: 21.8s | p2 3147.412ms\n",
      "Avg Turn Times after first turn: p1: 0.096ms | p2: 32.394ms\n"
     ]
    },
    {
     "name": "stderr",
     "output_type": "stream",
     "text": [
      "\n"
     ]
    }
   ],
   "source": [
    "# Agent-5,0 vs Agent-5,1\n",
    "from play import play\n",
    "\n",
    "players = ((1,5,0),(1,5,1))\n",
    "winners, turns, turn_times = play(gm=players,N=1,display=False)\n",
    "\n",
    "import numpy as np\n",
    "\n",
    "counts = np.bincount(winners)\n",
    "for i in range(len(counts)):\n",
    "    if i==0:\n",
    "        print(f'Players tied {counts[i]} times {100*counts[i]/np.sum(counts):.3f}%')\n",
    "    else:\n",
    "        try:\n",
    "            print(f'Player {i} won {counts[i]} times ({100*counts[i]/np.sum(counts):.3f}%)')\n",
    "        except IndexError as e:\n",
    "            print(f'Player {i} won 0 times (0%)')\n",
    "print('Avg Turns:',np.mean(turns))\n",
    "print('Min Turns:',np.min(turns))\n",
    "print('Max Turns:',np.max(turns))\n",
    "print(f'Avg Turn Times: p1: {1000*np.mean(turn_times[0]):3.3f}ms | p2: {1000*np.mean(turn_times[1]):3.3f}ms')\n",
    "print(f'First Turns took: p1: {turn_times[0][0]:.1f}s | p2 {1000*turn_times[1][0]:3.3f}ms')\n",
    "print(f'Avg Turn Times after first turn: p1: {1000*np.mean(turn_times[0][1:]):3.3f}ms | p2: {1000*np.mean(turn_times[1][1:]):3.3f}ms')\n"
   ]
  },
  {
   "cell_type": "markdown",
   "metadata": {},
   "source": [
    "### Analysis"
   ]
  },
  {
   "cell_type": "code",
   "execution_count": 19,
   "metadata": {},
   "outputs": [
    {
     "name": "stdout",
     "output_type": "stream",
     "text": [
      "Loaded Solved Game    \n",
      "Goal States: 15\n",
      "Neutral States: 1261\n",
      "Force Wins: 1006\n",
      "Force Loss: 14\n",
      "\n",
      "Loaded Solved Game    \n",
      "Goal States: 15\n",
      "Neutral States: 1261\n",
      "Force Wins: 1006\n",
      "Force Loss: 14\n"
     ]
    }
   ],
   "source": [
    "import pickle\n",
    "from classes.base_structs.gamestate import gamestate\n",
    "from classes.players.agent import Agent\n",
    "g = gamestate()\n",
    "a = Agent(id=0)\n",
    "\n",
    "with open('optimal_moves_id0.pkl','rb') as f:\n",
    "    finished_0 = pickle.load(f)\n",
    "    \n",
    "count_ties=0\n",
    "count_term=0\n",
    "force_win=0\n",
    "force_loss=0\n",
    "for state in finished_0.keys():\n",
    "    if state.player==0:\n",
    "        v=finished_0[state][1]\n",
    "        if v==float('inf'):\n",
    "            if state.isGoal():\n",
    "                count_term+=1\n",
    "            else:\n",
    "                child_heuristics = np.array([a.heuristic(state.getSuccessor(m)) for m in state.getLegalMoves()])\n",
    "                if not any(child_heuristics==float('inf')):\n",
    "                    print('no way to force win')\n",
    "                force_win+=1\n",
    "        elif v==float('-inf'):\n",
    "            if state.isGoal():\n",
    "                count_term+=1\n",
    "            else:\n",
    "                force_loss+=1\n",
    "        else:\n",
    "            child_heuristics = np.array([a.heuristic(state.getSuccessor(m)) for m in state.getLegalMoves()])\n",
    "            if any(child_heuristics==float('inf')):\n",
    "                print('neutral can force win')\n",
    "            count_ties+=1\n",
    "print('Goal States:',count_term)\n",
    "print('Neutral States:', count_ties)\n",
    "print('Force Wins:',force_win)\n",
    "print('Force Loss:',force_loss)\n",
    "print()\n",
    "\n",
    "a = Agent(id=1)\n",
    "with open('optimal_moves_id1.pkl','rb') as f:\n",
    "    finished_1 = pickle.load(f)\n",
    "        \n",
    "count_ties=0\n",
    "count_term=0\n",
    "force_win=0\n",
    "force_loss=0\n",
    "for state in finished_1.keys():\n",
    "    if state.player==1:\n",
    "        v=finished_1[state][1]\n",
    "        if finished_1[state][1]!=finished_1[state][2]:\n",
    "            print(finished_1[state])\n",
    "        if v==float('inf'):\n",
    "            if state.isGoal():\n",
    "                count_term+=1\n",
    "            else:\n",
    "                child_heuristics = np.array([a.heuristic(state.getSuccessor(m)) for m in state.getLegalMoves()])\n",
    "                if not any(child_heuristics==float('inf')) and a.heuristic(state)!=float('inf'):\n",
    "                    print('no way to force win')\n",
    "                    print(child_heuristics)\n",
    "                    state.display()\n",
    "                force_win+=1\n",
    "        elif v==float('-inf'):\n",
    "            if state.isGoal():\n",
    "                count_term+=1\n",
    "            else:\n",
    "                child_heuristics = np.array([a.heuristic(state.getSuccessor(m)) for m in state.getLegalMoves()])\n",
    "                if not any(child_heuristics==float('-inf')) and a.heuristic(state)!=float('-inf'):\n",
    "                    print('no way to force loss')\n",
    "                    print(child_heuristics)\n",
    "                    state.display()\n",
    "                force_loss+=1\n",
    "        else:\n",
    "            child_heuristics = np.array([a.heuristic(state.getSuccessor(m)) for m in state.getLegalMoves()])\n",
    "            if any(child_heuristics==float('inf')):\n",
    "                print('neutral can force win')\n",
    "            count_ties+=1\n",
    "print('Goal States:',count_term)\n",
    "print('Neutral States:', count_ties)\n",
    "print('Force Wins:',force_win)\n",
    "print('Force Loss:',force_loss)\n"
   ]
  },
  {
   "cell_type": "code",
   "execution_count": null,
   "metadata": {},
   "outputs": [],
   "source": []
  }
 ],
 "metadata": {
  "kernelspec": {
   "display_name": "lgame",
   "language": "python",
   "name": "python3"
  },
  "language_info": {
   "codemirror_mode": {
    "name": "ipython",
    "version": 3
   },
   "file_extension": ".py",
   "mimetype": "text/x-python",
   "name": "python",
   "nbconvert_exporter": "python",
   "pygments_lexer": "ipython3",
   "version": "3.13.0"
  }
 },
 "nbformat": 4,
 "nbformat_minor": 2
}
